{
 "cells": [
  {
   "cell_type": "markdown",
   "id": "939cf753-ca23-4e18-b726-5c4040299120",
   "metadata": {
    "tags": []
   },
   "source": [
    "### Analisis del precio de los vehiculos en funcion de su kilometraje\n",
    "---\n",
    "*Se realiza la importacion de las librerias que usaremos durante el desarrollo de la regresion lineal*"
   ]
  },
  {
   "cell_type": "code",
   "execution_count": null,
   "id": "21bd0c26-5777-4c82-b79d-7807dd5c9395",
   "metadata": {
    "tags": []
   },
   "outputs": [],
   "source": [
    "import numpy as np\n",
    "import pandas as pd\n",
    "import matplotlib.pyplot as plt\n",
    "from sklearn.preprocessing import StandardScaler\n",
    "from sklearn.model_selection import train_test_split\n",
    "from sklearn.linear_model import LinearRegression"
   ]
  },
  {
   "cell_type": "markdown",
   "id": "5ebd8bf0-7fc1-4dbd-a811-4472359bf481",
   "metadata": {},
   "source": [
    "*Se realiza la carga de la informacion y posterior a esto se extraen los elementos necesarios para nuestro analisis, en nuestro caso de estudio es todos los valores de la columna correspondiente a distancia desde el inmueble hasta la linea mas cercana del metro y el precio (price).*"
   ]
  },
  {
   "cell_type": "code",
   "execution_count": null,
   "id": "e8b24fdc-a2a1-4f1d-ba43-e15cf38084ba",
   "metadata": {
    "tags": []
   },
   "outputs": [],
   "source": [
    "dataset = pd.read_csv('data/real_state_price_prediction.csv')\n",
    "x_subway_distance = dataset.iloc[:len(dataset), 3].values.reshape(-1,1)\n",
    "y_price = dataset.iloc[:len(dataset), -1].values.reshape(-1,1)"
   ]
  },
  {
   "cell_type": "markdown",
   "id": "8e16848a",
   "metadata": {},
   "source": [
    "#### Estoy visualizando los datos con los que realizare la regresion lineal\n",
    "*En nuestro escenario la 'y' es el precio por metro cuadrado y la 'x' es la distancia desde el inmueble hasta la estacion del metro mas cercana*"
   ]
  },
  {
   "cell_type": "code",
   "execution_count": null,
   "id": "1196d925",
   "metadata": {},
   "outputs": [],
   "source": [
    "dataset.plot.scatter(x='X3 distance to the nearest MRT station', y='Y house price of unit area')\n",
    "plt.show()"
   ]
  },
  {
   "cell_type": "code",
   "execution_count": null,
   "id": "0dadeeb4",
   "metadata": {
    "tags": []
   },
   "outputs": [],
   "source": [
    "x_train, x_test, y_train, y_test = train_test_split(x_subway_distance, y_price, test_size=0.35, random_state=0)"
   ]
  },
  {
   "cell_type": "code",
   "execution_count": null,
   "id": "a6a327b1",
   "metadata": {},
   "outputs": [],
   "source": [
    "regression_instance = LinearRegression()\n",
    "regression_instance.fit(x_train, y_train)\n",
    "price_predict = regression_instance.predict(x_test)"
   ]
  },
  {
   "cell_type": "code",
   "execution_count": null,
   "id": "0a3d432c",
   "metadata": {},
   "outputs": [],
   "source": [
    "plt.scatter(x_test, y_test, color = \"red\") \n",
    "plt.plot(x_test, price_predict, color = \"blue\")\n",
    "plt.title(\"Relacion entre el precio de un inmueble y su cercania con el metro\")\n",
    "plt.xlabel(\"Distancia a la estacion del metro mas cercana (mts)\")\n",
    "plt.ylabel(\"Precio de metro cuadrado\")\n",
    "plt.show()"
   ]
  }
 ],
 "metadata": {
  "kernelspec": {
   "display_name": "Python 3 (ipykernel)",
   "language": "python",
   "name": "python3"
  },
  "language_info": {
   "codemirror_mode": {
    "name": "ipython",
    "version": 3
   },
   "file_extension": ".py",
   "mimetype": "text/x-python",
   "name": "python",
   "nbconvert_exporter": "python",
   "pygments_lexer": "ipython3",
   "version": "3.10.8"
  }
 },
 "nbformat": 4,
 "nbformat_minor": 5
}
