{
 "cells": [
  {
   "cell_type": "markdown",
   "id": "5a41a825",
   "metadata": {},
   "source": [
    "## Ejercicio algoritmo naive bayes sin librerias"
   ]
  },
  {
   "cell_type": "markdown",
   "id": "1a944d12",
   "metadata": {},
   "source": [
    "### Definicion de datos de entrenamiento"
   ]
  },
  {
   "cell_type": "code",
   "execution_count": 1,
   "id": "2c69e419",
   "metadata": {},
   "outputs": [],
   "source": [
    "import pandas as pd\n",
    "import math\n",
    "\n",
    "pacientes = pd.read_csv('data/covid.csv')"
   ]
  },
  {
   "cell_type": "code",
   "execution_count": 2,
   "id": "bd9a65c4",
   "metadata": {},
   "outputs": [
    {
     "data": {
      "text/html": [
       "<div>\n",
       "<style scoped>\n",
       "    .dataframe tbody tr th:only-of-type {\n",
       "        vertical-align: middle;\n",
       "    }\n",
       "\n",
       "    .dataframe tbody tr th {\n",
       "        vertical-align: top;\n",
       "    }\n",
       "\n",
       "    .dataframe thead th {\n",
       "        text-align: right;\n",
       "    }\n",
       "</style>\n",
       "<table border=\"1\" class=\"dataframe\">\n",
       "  <thead>\n",
       "    <tr style=\"text-align: right;\">\n",
       "      <th></th>\n",
       "      <th>fever</th>\n",
       "      <th>bodypain</th>\n",
       "      <th>age</th>\n",
       "      <th>runnynose</th>\n",
       "      <th>diffbreath</th>\n",
       "      <th>infected</th>\n",
       "    </tr>\n",
       "  </thead>\n",
       "  <tbody>\n",
       "    <tr>\n",
       "      <th>0</th>\n",
       "      <td>99.329862</td>\n",
       "      <td>0</td>\n",
       "      <td>26</td>\n",
       "      <td>1</td>\n",
       "      <td>-1</td>\n",
       "      <td>0</td>\n",
       "    </tr>\n",
       "    <tr>\n",
       "      <th>1</th>\n",
       "      <td>98.115263</td>\n",
       "      <td>1</td>\n",
       "      <td>61</td>\n",
       "      <td>1</td>\n",
       "      <td>0</td>\n",
       "      <td>1</td>\n",
       "    </tr>\n",
       "    <tr>\n",
       "      <th>2</th>\n",
       "      <td>99.918088</td>\n",
       "      <td>1</td>\n",
       "      <td>13</td>\n",
       "      <td>0</td>\n",
       "      <td>-1</td>\n",
       "      <td>0</td>\n",
       "    </tr>\n",
       "    <tr>\n",
       "      <th>3</th>\n",
       "      <td>101.344456</td>\n",
       "      <td>1</td>\n",
       "      <td>55</td>\n",
       "      <td>1</td>\n",
       "      <td>0</td>\n",
       "      <td>1</td>\n",
       "    </tr>\n",
       "    <tr>\n",
       "      <th>4</th>\n",
       "      <td>100.056678</td>\n",
       "      <td>1</td>\n",
       "      <td>37</td>\n",
       "      <td>0</td>\n",
       "      <td>1</td>\n",
       "      <td>0</td>\n",
       "    </tr>\n",
       "  </tbody>\n",
       "</table>\n",
       "</div>"
      ],
      "text/plain": [
       "        fever  bodypain  age  runnynose  diffbreath  infected\n",
       "0   99.329862         0   26          1          -1         0\n",
       "1   98.115263         1   61          1           0         1\n",
       "2   99.918088         1   13          0          -1         0\n",
       "3  101.344456         1   55          1           0         1\n",
       "4  100.056678         1   37          0           1         0"
      ]
     },
     "execution_count": 2,
     "metadata": {},
     "output_type": "execute_result"
    }
   ],
   "source": [
    "pacientes.head()"
   ]
  },
  {
   "cell_type": "code",
   "execution_count": 3,
   "id": "d6ef9130",
   "metadata": {},
   "outputs": [],
   "source": [
    "fever = pacientes['fever'].values\n",
    "runnynose = pacientes['runnynose'].values\n",
    "class_infected = list(pacientes['infected'].values)"
   ]
  },
  {
   "cell_type": "markdown",
   "id": "ec36a255",
   "metadata": {},
   "source": [
    "### Calculo de probabilidades a priori"
   ]
  },
  {
   "cell_type": "code",
   "execution_count": 4,
   "id": "3d7278b5",
   "metadata": {},
   "outputs": [],
   "source": [
    "posible_values_classes = set(class_infected)\n",
    "total_len_dataset = len(class_infected)"
   ]
  },
  {
   "cell_type": "code",
   "execution_count": 5,
   "id": "88f69ce2",
   "metadata": {},
   "outputs": [],
   "source": [
    "probabilidad = {}\n",
    "for clase in posible_values_classes:\n",
    "    cantidad_clase = class_infected.count(clase)\n",
    "    probabilidad_clase = cantidad_clase / total_len_dataset\n",
    "    probabilidad[clase] = probabilidad_clase"
   ]
  },
  {
   "cell_type": "code",
   "execution_count": 6,
   "id": "e0e03c7e",
   "metadata": {},
   "outputs": [
    {
     "data": {
      "text/plain": [
       "{0: {'media_fever': 100.50904816918361,\n",
       "  'desviacion_fever': 1.441914485252777,\n",
       "  'media_runnynose': 0.5110887096774194,\n",
       "  'desviacion_runnynose': 0.4998770253949371},\n",
       " 1: {'media_fever': 100.51496209634576,\n",
       "  'desviacion_fever': 1.434185669753124,\n",
       "  'media_runnynose': 0.48758689175769615,\n",
       "  'desviacion_runnynose': 0.4998458909941819}}"
      ]
     },
     "execution_count": 6,
     "metadata": {},
     "output_type": "execute_result"
    }
   ],
   "source": [
    "probabilidades_condicionales = {clase: {} for clase in posible_values_classes}\n",
    "for clase in posible_values_classes:\n",
    "    fever_clase = [fever[i] for i in range(total_len_dataset) if class_infected[i] == clase]\n",
    "    runnynose_clase = [runnynose[i] for i in range(total_len_dataset) if class_infected[i] == clase]\n",
    "    media_fever = sum(fever_clase) / len(fever_clase)\n",
    "    media_runnynose = sum(runnynose_clase) / len(runnynose_clase)\n",
    "    desviacion_fever = (sum((fever_i - media_fever) ** 2 for fever_i in fever_clase) / len(fever_clase)) ** 0.5\n",
    "    desviacion_runnynose = (sum((runnynose_i - media_runnynose) ** 2 for runnynose_i in runnynose_clase) / len(runnynose_clase)) ** 0.5\n",
    "    probabilidades_condicionales[clase]['media_fever'] = media_fever\n",
    "    probabilidades_condicionales[clase]['desviacion_fever'] = desviacion_fever\n",
    "    probabilidades_condicionales[clase]['media_runnynose'] = media_runnynose\n",
    "    probabilidades_condicionales[clase]['desviacion_runnynose'] = desviacion_runnynose\n",
    "probabilidades_condicionales"
   ]
  },
  {
   "cell_type": "markdown",
   "id": "d4cb765f",
   "metadata": {},
   "source": [
    "### Vamos a realizar una prediccion de acuerdo a las probabilidades ya generadas"
   ]
  },
  {
   "cell_type": "code",
   "execution_count": 7,
   "id": "62032aa6",
   "metadata": {},
   "outputs": [
    {
     "name": "stdout",
     "output_type": "stream",
     "text": [
      "Altura: 99.329862\n",
      "Peso: 1\n",
      "Predicción: 0\n"
     ]
    }
   ],
   "source": [
    "# Prueba\n",
    "fever_test = 99.329862\n",
    "runnynose_test = 1\n",
    "\n",
    "probabilidades_posteriores = {}\n",
    "# Calculo de probabilidad posterior\n",
    "for clase in posible_values_classes:\n",
    "    probabilidad_posterior = probabilidad[clase]\n",
    "    probabilidad_posterior *= (1 / (probabilidades_condicionales[clase]['desviacion_fever'] * ((2 * 3.14159) ** 0.5))) * math.exp(-(fever_test - probabilidades_condicionales[clase]['media_fever']) ** 2 / (2 * probabilidades_condicionales[clase]['desviacion_fever'] ** 2))\n",
    "    probabilidad_posterior *= (1 / (probabilidades_condicionales[clase]['desviacion_runnynose'] * ((2 * 3.14159) ** 0.5))) * math.exp(-(runnynose_test - probabilidades_condicionales[clase]['media_runnynose']) ** 2 / (2 * probabilidades_condicionales[clase]['desviacion_runnynose'] ** 2))\n",
    "    probabilidades_posteriores[clase] = probabilidad_posterior\n",
    "\n",
    "# Obtener la clase con la mayor probabilidad posterior como la predicción\n",
    "prediccion = max(probabilidades_posteriores, key=probabilidades_posteriores.get)\n",
    "\n",
    "# Paso 5: Mostrar los resultados\n",
    "print(\"Altura:\", fever_test)\n",
    "print(\"Peso:\", runnynose_test)\n",
    "print(\"Predicción:\", prediccion)"
   ]
  }
 ],
 "metadata": {
  "kernelspec": {
   "display_name": "Python 3 (ipykernel)",
   "language": "python",
   "name": "python3"
  },
  "language_info": {
   "codemirror_mode": {
    "name": "ipython",
    "version": 3
   },
   "file_extension": ".py",
   "mimetype": "text/x-python",
   "name": "python",
   "nbconvert_exporter": "python",
   "pygments_lexer": "ipython3",
   "version": "3.10.8"
  }
 },
 "nbformat": 4,
 "nbformat_minor": 5
}
